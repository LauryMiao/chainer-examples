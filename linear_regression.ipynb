{
 "cells": [
  {
   "cell_type": "code",
   "execution_count": 1,
   "metadata": {},
   "outputs": [],
   "source": [
    "import numpy as np\n",
    "import chainer\n",
    "from chainer import cuda, Function, gradient_check, report, training, utils, Variable\n",
    "from chainer import datasets, iterators, optimizers, serializers\n",
    "from chainer import Link, Chain, ChainList\n",
    "import chainer.functions as F\n",
    "import chainer.links as L\n",
    "from chainer.training import extensions\n",
    "import matplotlib.pyplot as plt"
   ]
  },
  {
   "cell_type": "code",
   "execution_count": 2,
   "metadata": {},
   "outputs": [],
   "source": [
    "# Parameters\n",
    "learning_rate = 0.01\n",
    "training_epochs = 1000\n",
    "display_step = 50"
   ]
  },
  {
   "cell_type": "code",
   "execution_count": 3,
   "metadata": {},
   "outputs": [],
   "source": [
    "# Training Data\n",
    "train_X = np.random.uniform(-1, 1, (10, 4)).astype('f')\n",
    "train_Y = np.random.uniform(-1, 1, (10, 1)).astype('f')\n",
    "n_samples = train_X.shape[0]"
   ]
  },
  {
   "cell_type": "code",
   "execution_count": 4,
   "metadata": {},
   "outputs": [
    {
     "data": {
      "text/plain": [
       "(10, 4)"
      ]
     },
     "execution_count": 4,
     "metadata": {},
     "output_type": "execute_result"
    }
   ],
   "source": [
    "train_X.shape"
   ]
  },
  {
   "cell_type": "code",
   "execution_count": 5,
   "metadata": {},
   "outputs": [],
   "source": [
    "class LinearRegression(Chain):\n",
    "    def __init__(self):\n",
    "        super(LinearRegression, self).__init__()\n",
    "        with self.init_scope():\n",
    "            self.l1 = L.Linear(4, 1)\n",
    "    \n",
    "    def __call__(self, x):\n",
    "        h = self.l1(x)\n",
    "        return h"
   ]
  },
  {
   "cell_type": "code",
   "execution_count": 6,
   "metadata": {},
   "outputs": [],
   "source": [
    "model = LinearRegression()\n",
    "opt = optimizers.SGD(lr=learning_rate)\n",
    "opt.setup(model)"
   ]
  },
  {
   "cell_type": "code",
   "execution_count": 7,
   "metadata": {},
   "outputs": [
    {
     "name": "stdout",
     "output_type": "stream",
     "text": [
      "Epoch  0050 , loss=0.201202929 W= [[-0.54507637  0.14813092  0.92154926  0.24694094]] b= [-0.08176503]\n",
      "Epoch  0100 , loss=0.167801201 W= [[-0.45310667  0.12236184  0.85184968  0.21527173]] b= [-0.11984608]\n",
      "Epoch  0150 , loss=0.146349967 W= [[-0.37717012  0.09380419  0.79618025  0.18835542]] b= [-0.13418032]\n",
      "Epoch  0200 , loss=0.131093219 W= [[-0.31249076  0.06439887  0.75113094  0.16622074]] b= [-0.13585396]\n",
      "Epoch  0250 , loss=0.119586714 W= [[-0.25619772  0.03527206  0.71426624  0.14835496]] b= [-0.13101828]\n",
      "Epoch  0300 , loss=0.110620193 W= [[-0.20649585  0.00706987  0.68380958  0.13407391]] b= [-0.12307153]\n",
      "Epoch  0350 , loss=0.103499360 W= [[-0.16220433 -0.01984818  0.65843946  0.12269612]] b= [-0.1138755]\n",
      "Epoch  0400 , loss=0.097777456 W= [[-0.12249973 -0.04529591  0.63715643  0.11361596]] b= [-0.10443407]\n",
      "Epoch  0450 , loss=0.093143851 W= [[-0.08677221 -0.0691933   0.61919397  0.10632603]] b= [-0.09527275]\n",
      "Epoch  0500 , loss=0.089371204 W= [[-0.05454466 -0.09152591  0.60395646  0.1004159 ]] b= [-0.08665077]\n",
      "Epoch  0550 , loss=0.086287528 W= [[-0.02542672 -0.11231996  0.59097582  0.09556114]] b= [-0.07868008]\n",
      "Epoch  0600 , loss=0.083759703 W= [[ 0.00091185 -0.13162652  0.57988077  0.09150924]] b= [-0.07139207]\n",
      "Epoch  0650 , loss=0.081682876 W= [[ 0.02475698 -0.14951168  0.57037306  0.08806583]] b= [-0.06477504]\n",
      "Epoch  0700 , loss=0.079973593 W= [[ 0.04635996 -0.16604982  0.56221157  0.08508275]] b= [-0.05879521]\n",
      "Epoch  0750 , loss=0.078564763 W= [[ 0.06594387 -0.18131948  0.5551995   0.08244767]] b= [-0.05340858]\n",
      "Epoch  0800 , loss=0.077402160 W= [[ 0.08370788 -0.19540024  0.5491752   0.08007597]] b= [-0.04856745]\n",
      "Epoch  0850 , loss=0.076441653 W= [[ 0.09983039 -0.20837106  0.54400331  0.07790427]] b= [-0.04422405]\n",
      "Epoch  0900 , loss=0.075647317 W= [[ 0.11447158 -0.22030877  0.53957152  0.07588533]] b= [-0.04033245]\n",
      "Epoch  0950 , loss=0.074989751 W= [[ 0.12777559 -0.23128723  0.53578454  0.07398409]] b= [-0.03684951]\n",
      "Epoch  1000 , loss=0.074444838 W= [[ 0.13987194 -0.24137698  0.5325619   0.07217468]] b= [-0.03373533]\n",
      "Optimisation finished!\n",
      "Training cost= 0.0744448378682 W= [[ 0.13987194 -0.24137698  0.5325619   0.07217468]] b= [-0.03373533]\n"
     ]
    }
   ],
   "source": [
    "for e in range(training_epochs):\n",
    "    model.cleargrads()\n",
    "    X = Variable(train_X)\n",
    "    Y = Variable(train_Y)\n",
    "    loss = F.sum((model(X) - Y)**2 / (2*n_samples))\n",
    "    loss.backward()\n",
    "    opt.update()\n",
    "\n",
    "    if (e + 1) % display_step == 0:\n",
    "        print 'Epoch ', '%04d' % (e+1),', loss=%.9f' % loss.data, \\\n",
    "                'W=', model.l1.W.data, 'b=', model.l1.b.data\n",
    "            \n",
    "print 'Optimisation finished!'\n",
    "print \"Training cost=\", loss.data, 'W=', model.l1.W.data, 'b=', model.l1.b.data"
   ]
  },
  {
   "cell_type": "code",
   "execution_count": null,
   "metadata": {},
   "outputs": [],
   "source": []
  },
  {
   "cell_type": "code",
   "execution_count": null,
   "metadata": {},
   "outputs": [],
   "source": []
  },
  {
   "cell_type": "code",
   "execution_count": null,
   "metadata": {},
   "outputs": [],
   "source": []
  },
  {
   "cell_type": "code",
   "execution_count": null,
   "metadata": {},
   "outputs": [],
   "source": []
  }
 ],
 "metadata": {
  "kernelspec": {
   "display_name": "Python 2",
   "language": "python",
   "name": "python2"
  },
  "language_info": {
   "codemirror_mode": {
    "name": "ipython",
    "version": 2
   },
   "file_extension": ".py",
   "mimetype": "text/x-python",
   "name": "python",
   "nbconvert_exporter": "python",
   "pygments_lexer": "ipython2",
   "version": "2.7.12"
  }
 },
 "nbformat": 4,
 "nbformat_minor": 2
}
