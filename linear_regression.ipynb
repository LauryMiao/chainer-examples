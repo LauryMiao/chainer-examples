{
 "cells": [
  {
   "cell_type": "code",
   "execution_count": 1,
   "metadata": {},
   "outputs": [],
   "source": [
    "import chainer\n",
    "import chainer.functions as F\n",
    "from chainer import initializers\n",
    "import numpy as np\n",
    "from chainer.utils import type_check\n",
    "import matplotlib.pyplot as plt"
   ]
  },
  {
   "cell_type": "code",
   "execution_count": 2,
   "metadata": {},
   "outputs": [],
   "source": [
    "# Adjust from chainer.linear to make it work with 1-d input\n",
    "\n",
    "def _as_mat(x):\n",
    "    if x.ndim == 2:\n",
    "        return x\n",
    "    return x.reshape(len(x), -1)\n",
    "\n",
    "\n",
    "class LinearFunction(chainer.function.Function):\n",
    "\n",
    "    def check_type_forward(self, in_types):\n",
    "        n_in = in_types.size()\n",
    "        type_check.expect(2 <= n_in, n_in <= 3)\n",
    "        x_type, w_type = in_types[:2]\n",
    "\n",
    "        type_check.expect(\n",
    "            x_type.dtype.kind == 'f',\n",
    "            w_type.dtype.kind == 'f',\n",
    "#             x_type.ndim >= 2,\n",
    "#             w_type.ndim == 2,\n",
    "            type_check.prod(x_type.shape[1:]) == w_type.shape[1],\n",
    "        )\n",
    "        if type_check.eval(n_in) == 3:\n",
    "            b_type = in_types[2]\n",
    "            type_check.expect(\n",
    "                b_type.dtype == x_type.dtype,\n",
    "                b_type.ndim == 1,\n",
    "                b_type.shape[0] == w_type.shape[0],\n",
    "            )\n",
    "\n",
    "    def forward(self, inputs):\n",
    "        x = _as_mat(inputs[0])\n",
    "        W = inputs[1]\n",
    "\n",
    "        if not type_check.same_types(*inputs):\n",
    "            raise ValueError('numpy and cupy must not be used together\\n'\n",
    "                             'type(W): {0}, type(x): {1}'\n",
    "                             .format(type(W), type(x)))\n",
    "\n",
    "        y = x.dot(W.T).astype(x.dtype, copy=False)\n",
    "        if len(inputs) == 3:\n",
    "            b = inputs[2]\n",
    "            y += b\n",
    "        return y,\n",
    "\n",
    "    def backward(self, inputs, grad_outputs):\n",
    "        x = _as_mat(inputs[0])\n",
    "        W = inputs[1]\n",
    "        gy = grad_outputs[0]\n",
    "\n",
    "        if not type_check.same_types(*inputs):\n",
    "            raise ValueError('numpy and cupy must not be used together\\n'\n",
    "                             'type(W): {0}, type(x): {1}'\n",
    "                             .format(type(W), type(x)))\n",
    "\n",
    "        gx = gy.dot(W).astype(x.dtype, copy=False).reshape(inputs[0].shape)\n",
    "        gW = gy.T.dot(x).astype(W.dtype, copy=False)\n",
    "        if len(inputs) == 3:\n",
    "            gb = gy.sum(0)\n",
    "            return gx, gW, gb\n",
    "        else:\n",
    "            return gx, gW\n",
    "\n",
    "\n",
    "def linear(x, W, b=None):\n",
    "    if b is None:\n",
    "        return LinearFunction()(x, W)\n",
    "    else:\n",
    "        return LinearFunction()(x, W, b)"
   ]
  },
  {
   "cell_type": "code",
   "execution_count": 3,
   "metadata": {},
   "outputs": [],
   "source": [
    "# Define linear layer using chainer.Link\n",
    "\n",
    "class LinearLayer(chainer.Link):\n",
    "    def __init__(self, n_in, n_out):\n",
    "        super(LinearLayer, self).__init__()\n",
    "        with self.init_scope():\n",
    "            self.W = chainer.Parameter(\n",
    "                initializers.Normal(), (n_out, n_in))\n",
    "            self.b = chainer.Parameter(\n",
    "                initializers.Zero(), (n_out,))\n",
    "\n",
    "    def __call__(self, x):\n",
    "        return linear(x, self.W, self.b)"
   ]
  },
  {
   "cell_type": "code",
   "execution_count": 4,
   "metadata": {},
   "outputs": [],
   "source": [
    "# Parameters\n",
    "learning_rate = 0.01\n",
    "training_epochs = 1000\n",
    "display_step = 50"
   ]
  },
  {
   "cell_type": "code",
   "execution_count": 5,
   "metadata": {},
   "outputs": [],
   "source": [
    "# Training Data\n",
    "train_X = np.asarray([3.3,4.4,5.5,6.71,6.93,4.168,9.779,6.182,7.59,2.167,\n",
    "                         7.042,10.791,5.313,7.997,5.654,9.27,3.1], dtype=np.float32)\n",
    "train_Y = np.asarray([1.7,2.76,2.09,3.19,1.694,1.573,3.366,2.596,2.53,1.221,\n",
    "                         2.827,3.465,1.65,2.904,2.42,2.94,1.3], dtype=np.float32)\n",
    "n_samples = train_X.shape[0]"
   ]
  },
  {
   "cell_type": "code",
   "execution_count": 6,
   "metadata": {},
   "outputs": [
    {
     "name": "stdout",
     "output_type": "stream",
     "text": [
      "Epoch  0050  loss=0.107259378    W=0.350252032    b=0.099650331\n",
      "Epoch  0100  loss=0.103790462    W=0.344441414    b=0.140845045\n",
      "Epoch  0150  loss=0.100718282    W=0.338973135    b=0.179612607\n",
      "Epoch  0200  loss=0.097997464    W=0.333827049    b=0.216095939\n",
      "Epoch  0250  loss=0.095587842    W=0.328984231    b=0.250429571\n",
      "Epoch  0300  loss=0.093453795    W=0.324426711    b=0.282740265\n",
      "Epoch  0350  loss=0.091563821    W=0.320137739    b=0.313147157\n",
      "Epoch  0400  loss=0.089890026    W=0.316101491    b=0.341762364\n",
      "Epoch  0450  loss=0.088407636    W=0.312303066    b=0.368691564\n",
      "Epoch  0500  loss=0.087094806    W=0.308728397    b=0.394034147\n",
      "Epoch  0550  loss=0.085932121    W=0.305364400    b=0.417883426\n",
      "Epoch  0600  loss=0.084902391    W=0.302198619    b=0.440327585\n",
      "Epoch  0650  loss=0.083990462    W=0.299219340    b=0.461449295\n",
      "Epoch  0700  loss=0.083182812    W=0.296415627    b=0.481326371\n",
      "Epoch  0750  loss=0.082467549    W=0.293777108    b=0.500032246\n",
      "Epoch  0800  loss=0.081834070    W=0.291294038    b=0.517636120\n",
      "Epoch  0850  loss=0.081273079    W=0.288957268    b=0.534202695\n",
      "Epoch  0900  loss=0.080776230    W=0.286758214    b=0.549793005\n",
      "Epoch  0950  loss=0.080336206    W=0.284688711    b=0.564464688\n",
      "Epoch  1000  loss=0.079946496    W=0.282741189    b=0.578271925\n",
      "Optimisation finished!\n"
     ]
    },
    {
     "data": {
      "image/png": "[encoded data removed]",
      "text/plain": [
       "<matplotlib.figure.Figure at 0x7fef9c127d10>"
      ]
     },
     "metadata": {},
     "output_type": "display_data"
    }
   ],
   "source": [
    "X = _as_mat(chainer.Variable(train_X)) # _as_mat reshape X from array (n_samples,) to matrix (n_samples, 1)\n",
    "Y = _as_mat(chainer.Variable(train_Y)) # _as_mat reshape Y from array (n_samples,) to matrix (n_samples, 1)\n",
    "\n",
    "# Define optimizer, here use SGD\n",
    "opt = chainer.optimizers.SGD(lr=learning_rate)\n",
    "li_reg = LinearLayer(1, 1)\n",
    "opt.setup(li_reg)\n",
    "\n",
    "for e in range(training_epochs):\n",
    "    # clear grads of previous epochs after update\n",
    "    li_reg.cleargrads()\n",
    "    # Do forward\n",
    "    h = li_reg(X)\n",
    "    # Compute mean square error\n",
    "    loss = F.sum(F.squared_error(h, Y) / (2*n_samples))\n",
    "    # Back proppagation\n",
    "    loss.backward()\n",
    "    # Update grads\n",
    "    opt.update()\n",
    "    \n",
    "    if (e + 1) % display_step == 0:\n",
    "        print 'Epoch ', '%04d' % (e+1),' loss=%.9f' % loss.data, \\\n",
    "                '   W=%.9f' % li_reg.W.data, '   b=%.9f'% li_reg.b.data\n",
    "            \n",
    "print 'Optimisation finished!'\n",
    "\n",
    "# Graphic display\n",
    "plt.plot(train_X, train_Y, 'ro', label='Original data')\n",
    "plt.plot(train_X, linear(train_X, li_reg.W, li_reg.b).data, label='Fitted line')\n",
    "plt.legend()\n",
    "plt.show()"
   ]
  }
 ],
 "metadata": {
  "kernelspec": {
   "display_name": "Python 2",
   "language": "python",
   "name": "python2"
  },
  "language_info": {
   "codemirror_mode": {
    "name": "ipython",
    "version": 2
   },
   "file_extension": ".py",
   "mimetype": "text/x-python",
   "name": "python",
   "nbconvert_exporter": "python",
   "pygments_lexer": "ipython2",
   "version": "2.7.12"
  }
 },
 "nbformat": 4,
 "nbformat_minor": 2
}
