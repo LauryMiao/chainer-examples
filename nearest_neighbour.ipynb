{
 "cells": [
  {
   "cell_type": "code",
   "execution_count": 1,
   "metadata": {},
   "outputs": [],
   "source": [
    "import chainer\n",
    "import chainer.functions as F\n",
    "import chainer.links as L\n",
    "from chainer.dataset import concat_examples\n",
    "from chainer import initializers\n",
    "import numpy as np\n",
    "from chainer.utils import type_check\n",
    "import matplotlib.pyplot as plt"
   ]
  },
  {
   "cell_type": "code",
   "execution_count": 2,
   "metadata": {},
   "outputs": [],
   "source": [
    "# Load data\n",
    "train, test = chainer.datasets.get_mnist(withlabel=True, ndim=1, scale=1.)\n",
    "reduced_train = chainer.iterators.SerialIterator(dataset=train, batch_size=5000, repeat=True, shuffle=True).next()\n",
    "reduced_test = chainer.iterators.SerialIterator(dataset=test, batch_size=1000, repeat=True, shuffle=True).next()"
   ]
  },
  {
   "cell_type": "code",
   "execution_count": 3,
   "metadata": {},
   "outputs": [],
   "source": [
    "train_X, train_Y = concat_examples(reduced_train)\n",
    "test_X, test_Y = concat_examples(reduced_test)"
   ]
  },
  {
   "cell_type": "code",
   "execution_count": 4,
   "metadata": {},
   "outputs": [],
   "source": [
    "# Params\n",
    "display_step = 100\n",
    "n_tests = test_Y.shape[0]\n",
    "train_shape = train_X.shape"
   ]
  },
  {
   "cell_type": "code",
   "execution_count": 5,
   "metadata": {},
   "outputs": [
    {
     "name": "stdout",
     "output_type": "stream",
     "text": [
      "Test 0100 predict 1 true_class 1\n",
      "Test 0200 predict 2 true_class 2\n",
      "Test 0300 predict 0 true_class 0\n",
      "Test 0400 predict 2 true_class 2\n",
      "Test 0500 predict 5 true_class 5\n",
      "Test 0600 predict 5 true_class 5\n",
      "Test 0700 predict 7 true_class 7\n",
      "Test 0800 predict 5 true_class 5\n",
      "Test 0900 predict 9 true_class 9\n",
      "Test 1000 predict 1 true_class 1\n",
      "Done testing!\n",
      "Test accuracy 0.92100000\n"
     ]
    }
   ],
   "source": [
    "acc = 0.\n",
    "for i, (x, y) in enumerate(reduced_test):\n",
    "    distance = F.sum(F.absolute_error(train_X, F.broadcast_to(x, train_shape)), axis=1, keepdims=False)\n",
    "    nn_index = F.argmin(distance, axis=0)\n",
    "    pred_y = train_Y[nn_index.data]\n",
    "    if (i + 1) % display_step == 0:\n",
    "        print('Test {:04d} predict {} true_class {}'.format(i+1, pred_y, y))\n",
    "    if pred_y == y:\n",
    "        acc += 1.\n",
    "print ('Done testing!')\n",
    "print ('Test accuracy {:.08f}'.format(acc / n_tests))"
   ]
  },
  {
   "cell_type": "code",
   "execution_count": null,
   "metadata": {},
   "outputs": [],
   "source": []
  }
 ],
 "metadata": {
  "kernelspec": {
   "display_name": "Python 2",
   "language": "python",
   "name": "python2"
  },
  "language_info": {
   "codemirror_mode": {
    "name": "ipython",
    "version": 2
   },
   "file_extension": ".py",
   "mimetype": "text/x-python",
   "name": "python",
   "nbconvert_exporter": "python",
   "pygments_lexer": "ipython2",
   "version": "2.7.12"
  }
 },
 "nbformat": 4,
 "nbformat_minor": 2
}
